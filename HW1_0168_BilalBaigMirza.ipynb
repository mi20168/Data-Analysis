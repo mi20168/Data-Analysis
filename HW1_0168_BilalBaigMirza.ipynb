{
 "cells": [
  {
   "cell_type": "markdown",
   "metadata": {},
   "source": [
    "# Homework 1 (20 pts)\n",
    "\n",
    "## Due Date: 10/13/2020 ( Tuesday 11:59PM)\n",
    "\n",
    "Save Notebook file as :HW1_LastFourDigitsofYourStudentID_YourName.ipynb\n",
    "\n",
    "Email to: jzhang@eastwest.edu\n",
    "\n",
    "Subject: CI280 Homework 1 "
   ]
  },
  {
   "cell_type": "markdown",
   "metadata": {},
   "source": [
    "Ch02 Input, Output\n",
    "\n",
    "Problem 1: Computer present value ( Input , compute and output: 2 points)\n",
    "\n",
    "present_value = future_value / ( 1.0 + rate) ** years"
   ]
  },
  {
   "cell_type": "code",
   "execution_count": 1,
   "metadata": {},
   "outputs": [
    {
     "name": "stdout",
     "output_type": "stream",
     "text": [
      "Enter future value: 10000\n",
      "Enter interest value: 0.05\n",
      "Enter a year: 10\n",
      "Present value: $ 6139.13\n"
     ]
    }
   ],
   "source": [
    "# Problem 1: (2 pts)\n",
    "\n",
    "# Input (1 point)\n",
    "future_value = 0\n",
    "present_value = 0 \n",
    "years = 0\n",
    "\n",
    "future_value = float(input(\"Enter future value: \"))\n",
    "interest_rate = float(input(\"Enter interest value: \"))\n",
    "years = int(input(\"Enter a year: \"))\n",
    "\n",
    "# Compute (1 point)\n",
    "present_value = future_value / (1.0 + interest_rate) ** years\n",
    "\n",
    "# Output \n",
    "print('Present value: $', format(present_value, \".2f\"))"
   ]
  },
  {
   "cell_type": "markdown",
   "metadata": {},
   "source": [
    "Ch03 Decision -- if ... else ...\n",
    "\n",
    "Problem 2: Software Sales (Page 154) ( 5 pts)\n",
    "A softare company sells a package that retais for $99. Quantity discounts are given according to following table:\n",
    "    Quantity     Discount\n",
    "    10 - 19       10%\n",
    "    20 - 49       20%\n",
    "    50 - 99       30%\n",
    "    100 or more   40%\n",
    "    \n",
    "Write a program that ask the uer to enter number of packages, and display the dicount rate, discount and total pay.\n",
    "\n",
    "    Declare constant variables -- 1 pt\n",
    "    Input                      -- 1 pt\n",
    "    Compute discount rate      -- 2 pts\n",
    "    Compute other              -- 1 pt\n",
    "    -----------------------------------\n",
    "    Total points                  5 pts"
   ]
  },
  {
   "cell_type": "code",
   "execution_count": 2,
   "metadata": {},
   "outputs": [
    {
     "name": "stdout",
     "output_type": "stream",
     "text": [
      "Enter number of packages purchased: 10\n",
      "===Summary=========\n",
      "Number of packages purchased:  10\n",
      "Discount rate:  10.0%\n",
      "Original cost: $ 990\n",
      "Cost after discount: $ 891.0\n",
      "Your discount saving: $ 99.0\n"
     ]
    }
   ],
   "source": [
    "# Problem 2: (5 pts)\n",
    "\n",
    "\n",
    "\n",
    "# Get input\n",
    "retail_price= 99\n",
    "quantity = int(input(\"Enter number of packages purchased: \"))\n",
    "\n",
    "# Compute\n",
    "if quantity < 10:\n",
    "    discount = 0\n",
    "elif quantity < 20:\n",
    "    discount = 0.10\n",
    "elif quantity < 50:\n",
    "    discount = 0.20\n",
    "elif quantity < 100:\n",
    "    discount = 0.30\n",
    "else:\n",
    "    discount = 0.40\n",
    "    \n",
    "subtotal = retail_price * quantity\n",
    "total_discount = subtotal * discount\n",
    "total = subtotal - total_discount\n",
    "\n",
    "print('===Summary=========')\n",
    "print(\"Number of packages purchased: \", quantity)\n",
    "print(\"Discount rate: \", format(discount, \".1%\"))\n",
    "print(\"Original cost: $\", format(subtotal))\n",
    "print(\"Cost after discount: $\", format(total, \".1f\"))\n",
    "print(\"Your discount saving: $\", format(total_discount, \".1f\"))\n",
    "\n",
    "\n"
   ]
  },
  {
   "cell_type": "markdown",
   "metadata": {},
   "source": [
    "Ch04 Loop\n",
    "\n",
    "Problem 3: Tuition Increase ( 3 pts)\n",
    "At one college, the tuition for a full-time student is $8000 per semsestr. \n",
    "The college will incease the tuituin by 3% per year for next five years.\n",
    "Write a program to display the projected tuition amount for the next five years\n",
    "\n",
    "    Declare constant variables \n",
    "    loop and Compute           -- 2 pts\n",
    "    Display format             -- 1 pts\n",
    "    -----------------------------------\n",
    "    Total points                  3 pts"
   ]
  },
  {
   "cell_type": "code",
   "execution_count": 3,
   "metadata": {},
   "outputs": [
    {
     "name": "stdout",
     "output_type": "stream",
     "text": [
      "Projected Tuition for the next five years\n",
      "Year \t\t Tuition\n",
      "--------------------------\n",
      "1 \t\t $ 8000.0\n",
      "2 \t\t $ 8240.0\n",
      "3 \t\t $ 8487.2\n",
      "4 \t\t $ 8741.8\n",
      "5 \t\t $ 9004.1\n"
     ]
    }
   ],
   "source": [
    "# Problem 3: (3 pts)\n",
    "\n",
    "INT_TUITION = 8000\n",
    "INCREASE_RATE = 0.03\n",
    "tuition = 0\n",
    "Years = 5\n",
    "    \n",
    "print('Projected Tuition for the next five years')\n",
    "print('Year \\t\\t Tuition')\n",
    "print('--------------------------')\n",
    "\n",
    "for Years in range(0, Years):\n",
    "    tuition = INT_TUITION * (1+INCREASE_RATE)** Years\n",
    "    print(format(Years+1),'\\t\\t $',format(tuition, \".1f\"))"
   ]
  },
  {
   "cell_type": "markdown",
   "metadata": {},
   "source": [
    "Ch05 Function\n",
    "\n",
    "Problem 4: ( 4 pts)\n",
    "Write a function to generate random numbers, and keep a count how many are even numbers, and how many are odd numbers,\n",
    "and return two counts\n",
    "\n",
    "Generate 100 random numbers to show the ratio.\n",
    "Generate 1000 random numbers to show the ratio.\n",
    "Generate 10000 random numbers to show the ratio.\n",
    "\n",
    "Hints: \n",
    "Use random.randint(0,x) to generate a random number\n",
    "Use num%2 == 0 to check is it is even number\n",
    "\n",
    "    Define function: 3 pts\n",
    "    Invoke function: 1 pts\n",
    "    Total: 4 pts"
   ]
  },
  {
   "cell_type": "code",
   "execution_count": 4,
   "metadata": {},
   "outputs": [
    {
     "name": "stdout",
     "output_type": "stream",
     "text": [
      "1.0408163265306123\n",
      "1.0833333333333333\n",
      "1.028809089064719\n"
     ]
    }
   ],
   "source": [
    "# Problem 4 (6 pts)\n",
    "\n",
    "import random\n",
    "\n",
    "# Define the function here\n",
    "def countNo(x):\n",
    "    even = 0\n",
    "    odd = 0\n",
    "    for i in range(1,x+1):\n",
    "        num = random.randint(0,100)\n",
    "        if num%2 == 0:\n",
    "            even=even+1\n",
    "        else:\n",
    "            odd=odd+1\n",
    "    return even,odd\n",
    "\n",
    "#For 100 random numbers\n",
    "x=100\n",
    "even,odd=countNo(x)\n",
    "print(float(even/odd))\n",
    "\n",
    "#For 1000 random numbers\n",
    "x=1000\n",
    "even,odd=countNo(x)\n",
    "print(float(even/odd))\n",
    "\n",
    "#For 10000 random numbers\n",
    "x=10000\n",
    "even,odd=countNo(x)\n",
    "print(float(even/odd))  \n"
   ]
  },
  {
   "cell_type": "code",
   "execution_count": null,
   "metadata": {},
   "outputs": [],
   "source": []
  }
 ],
 "metadata": {
  "kernelspec": {
   "display_name": "Python 3",
   "language": "python",
   "name": "python3"
  },
  "language_info": {
   "codemirror_mode": {
    "name": "ipython",
    "version": 3
   },
   "file_extension": ".py",
   "mimetype": "text/x-python",
   "name": "python",
   "nbconvert_exporter": "python",
   "pygments_lexer": "ipython3",
   "version": "3.8.3"
  }
 },
 "nbformat": 4,
 "nbformat_minor": 2
}
